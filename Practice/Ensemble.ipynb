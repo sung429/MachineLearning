{
 "cells": [
  {
   "cell_type": "markdown",
   "metadata": {},
   "source": [
    "# Ensemble Learning이란\n",
    "- 여러개의 기본 모델을 활용하여 하나의 새로운 모델을 만들어내는 개념\n",
    "- 이때의 기본 모델(base model)을 weak learner, classifier, base learner, single learner 라고 부름"
   ]
  },
  {
   "cell_type": "markdown",
   "metadata": {},
   "source": [
    "#### 대수의 법칙\n",
    "\n",
    "- 큰 모집단에서 무작위로 뽑은 표본의 평균이 전체 모집단의 평균과 가까울 가능성이 높다는 통계와 확률 분야의 기본 개념\n",
    "- 많은 시행(다수의 사람)의 결과가 수학적으로 합리적인 결과를 가져온다.\n",
    "- 다양한 learner를 만들면 전체 모델의 성능이 증가 할 수 있음"
   ]
  },
  {
   "cell_type": "markdown",
   "metadata": {},
   "source": [
    "- 이진 분류 문제에서 각각의 base learner 들은 0.5이상의 정확도를 가져야함\n",
    "- 각각의 분류기는 독립이어야함\n",
    "- 총 분류기의 수는 이론적으로 무한대이어야함"
   ]
  },
  {
   "cell_type": "markdown",
   "metadata": {},
   "source": [
    "- weak learner들을 조합하여 강한 learner로 만듦"
   ]
  },
  {
   "cell_type": "markdown",
   "metadata": {},
   "source": [
    "- Test데이터에 대해 다양한 의견(예측값)을 수렴하기 위해 overfitting이 잘 되는 모델을 기본적으로 사용\n",
    "- 가장 많이 쓰이는 RandomForest, Boosting은 Tree기반 모델"
   ]
  },
  {
   "cell_type": "markdown",
   "metadata": {},
   "source": [
    "- Bagging : 모델을 다양하게 만들기 위해 데이터를 재구성\n",
    "\n",
    "- RandomForest : 모델을 다양하게 만들기 위해 데이터 뿐만 아니라, 변수도 재구성\n",
    "\n",
    "- Boosting : 맞추기 어려운 데이터에 대해 좀 더 가중치를 두어 학습하는 개념(Adaboost, Gradient boosting(Xgboost,LightGBM,Catboost)\n",
    ">- 모델을 순서대로 만듦, 잘 못 맞춘 데이터에 대해 가중치를 두어 다음 러너가 학습하는 방식으로 반복\n",
    ">- Xgboost가 가장 유명"
   ]
  },
  {
   "cell_type": "markdown",
   "metadata": {},
   "source": [
    "- Stacking : 모델의 output값을 새로운 독립변수로 사용(성능은 제일 좋음, 대신 엄청 오래 걸리고 코드도 직접 짜야함, 따로 함수를 제공하진 않음)"
   ]
  },
  {
   "cell_type": "code",
   "execution_count": null,
   "metadata": {},
   "outputs": [],
   "source": []
  }
 ],
 "metadata": {
  "kernelspec": {
   "display_name": "Python 3",
   "language": "python",
   "name": "python3"
  },
  "language_info": {
   "codemirror_mode": {
    "name": "ipython",
    "version": 3
   },
   "file_extension": ".py",
   "mimetype": "text/x-python",
   "name": "python",
   "nbconvert_exporter": "python",
   "pygments_lexer": "ipython3",
   "version": "3.7.3"
  }
 },
 "nbformat": 4,
 "nbformat_minor": 4
}
